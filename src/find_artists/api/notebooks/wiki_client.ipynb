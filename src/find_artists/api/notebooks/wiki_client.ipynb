{
 "cells": [
  {
   "cell_type": "code",
   "execution_count": null,
   "metadata": {},
   "outputs": [],
   "source": [
    "from tqdm import tqdm\n",
    "from iptk_data import Normalize\n",
    "from iptk_data import Present\n",
    "import pywikibot"
   ]
  },
  {
   "cell_type": "code",
   "execution_count": null,
   "metadata": {},
   "outputs": [],
   "source": [
    "class WikiClient:\n",
    "\n",
    "    def __init__(self):\n",
    "        pass\n",
    "\n",
    "    def run(self):\n",
    "        pass\n",
    "\n",
    "    def _data_retrieval(self):\n",
    "        pass\n",
    "\n",
    "    def _send_wikidata_request(self):\n",
    "        pass\n",
    "\n",
    "    def _send_wikipedia_request(self):\n",
    "        pass\n",
    "\n",
    "    def _clean_wiki_id(self, unclean_id):\n",
    "        # TURN THE ITEM TO STRING FORMAT\n",
    "        id_str = str(unclean_id)\n",
    "\n",
    "        # SPLIT THE STRING ITEMS ON SEMI-COLON INTO LIST\n",
    "        id_items = id_str.split(\":\")\n",
    "        \n",
    "        # SELECT THE SECOND ITEM IN THE LIST\n",
    "        id_half = id_items[1]\n",
    "        \n",
    "        # REMOVE THE SQUARE BRACKETS FROM LIST\n",
    "        clean_id = id_half.replace(\"]\", \"\")\n",
    "\n",
    "        # APPEND THE CLEANED ID TO THE 'WIKI_ID' KEY IN ARTIST PAGE LIST\n",
    "        self.artist_page['wiki_id'] = id\n",
    "\n",
    "        # RETURN THE CLEANED ID\n",
    "        return clean_id "
   ]
  }
 ],
 "metadata": {
  "language_info": {
   "name": "python"
  },
  "orig_nbformat": 4
 },
 "nbformat": 4,
 "nbformat_minor": 2
}
